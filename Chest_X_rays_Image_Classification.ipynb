{
  "nbformat": 4,
  "nbformat_minor": 0,
  "metadata": {
    "colab": {
      "provenance": [],
      "toc_visible": true
    },
    "kernelspec": {
      "name": "python3",
      "display_name": "Python 3"
    },
    "language_info": {
      "name": "python"
    },
    "accelerator": "GPU"
  },
  "cells": [
    {
      "cell_type": "code",
      "execution_count": null,
      "metadata": {
        "id": "eA4Ux-O2ZEni"
      },
      "outputs": [],
      "source": [
        "#install Kaggle\n",
        "!pip install -q Kaggle"
      ]
    },
    {
      "cell_type": "code",
      "source": [
        "from google.colab import files\n",
        "files.upload()"
      ],
      "metadata": {
        "colab": {
          "resources": {
            "http://localhost:8080/nbextensions/google.colab/files.js": {
              "data": "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",
              "ok": true,
              "headers": [
                [
                  "content-type",
                  "application/javascript"
                ]
              ],
              "status": 200,
              "status_text": ""
            }
          },
          "base_uri": "https://localhost:8080/",
          "height": 91
        },
        "id": "NecUZPGQZPUR",
        "outputId": "5851eeab-7ffb-48d9-fe8e-f50f8fb50474"
      },
      "execution_count": null,
      "outputs": [
        {
          "output_type": "display_data",
          "data": {
            "text/plain": [
              "<IPython.core.display.HTML object>"
            ],
            "text/html": [
              "\n",
              "     <input type=\"file\" id=\"files-6a582303-448b-4470-ae84-bf7bbbcec560\" name=\"files[]\" multiple disabled\n",
              "        style=\"border:none\" />\n",
              "     <output id=\"result-6a582303-448b-4470-ae84-bf7bbbcec560\">\n",
              "      Upload widget is only available when the cell has been executed in the\n",
              "      current browser session. Please rerun this cell to enable.\n",
              "      </output>\n",
              "      <script src=\"/nbextensions/google.colab/files.js\"></script> "
            ]
          },
          "metadata": {}
        },
        {
          "output_type": "stream",
          "name": "stdout",
          "text": [
            "Saving kaggle.json to kaggle.json\n"
          ]
        },
        {
          "output_type": "execute_result",
          "data": {
            "text/plain": [
              "{'kaggle.json': b'{\"username\":\"abhikumar666\",\"key\":\"ef5ecff69ca86708a4fce4ebb826dea1\"}'}"
            ]
          },
          "metadata": {},
          "execution_count": 2
        }
      ]
    },
    {
      "cell_type": "code",
      "source": [
        "#Create a Kaggle directory\n",
        "!mkdir ~/.kaggle"
      ],
      "metadata": {
        "id": "cwnIJKKHZPRY"
      },
      "execution_count": null,
      "outputs": []
    },
    {
      "cell_type": "code",
      "source": [
        "#Copy json to folder created\n",
        "! cp kaggle.json ~/.kaggle/ "
      ],
      "metadata": {
        "id": "LPdMtUHpZPOt"
      },
      "execution_count": null,
      "outputs": []
    },
    {
      "cell_type": "code",
      "source": [
        "#Permission for JSON to act\n",
        "! chmod 600 ~/.kaggle/kaggle.json"
      ],
      "metadata": {
        "id": "yqvsHvxuZPMJ"
      },
      "execution_count": null,
      "outputs": []
    },
    {
      "cell_type": "code",
      "source": [
        "#To list all the dataset in kaggle\n",
        "! kaggle datasets list"
      ],
      "metadata": {
        "id": "QDRlHbcgZPI_",
        "colab": {
          "base_uri": "https://localhost:8080/"
        },
        "outputId": "ad5b2bff-5ba8-4fdf-8692-baa86b2780b7"
      },
      "execution_count": null,
      "outputs": [
        {
          "output_type": "stream",
          "name": "stdout",
          "text": [
            "ref                                                            title                                             size  lastUpdated          downloadCount  voteCount  usabilityRating  \n",
            "-------------------------------------------------------------  -----------------------------------------------  -----  -------------------  -------------  ---------  ---------------  \n",
            "datasets/piterfm/2022-ukraine-russian-war                      2022 Ukraine Russia War                            2KB  2022-04-09 16:53:18           6652        377  1.0              \n",
            "datasets/kamilpytlak/personal-key-indicators-of-heart-disease  Personal Key Indicators of Heart Disease           3MB  2022-02-16 10:18:03          10275        224  1.0              \n",
            "datasets/ankanhore545/cost-of-living-index-2022                Cost of Living Index 2022                          4KB  2022-04-09 06:22:10           2298         34  0.8235294        \n",
            "datasets/prasertk/best-tv-shows-of-all-time                    Best TV shows of all time                        571KB  2022-04-05 04:06:09            534         24  1.0              \n",
            "datasets/prasertk/historical-commodity-prices-from-20002022    Major commodity prices from 2000-2022            399KB  2022-04-09 15:32:08            907         30  1.0              \n",
            "datasets/vivek468/superstore-dataset-final                     Superstore Dataset                               550KB  2022-02-17 11:33:07           7562        161  1.0              \n",
            "datasets/xhlulu/cpc-codes                                      Cooperative Patent Classification Codes Meaning    5MB  2022-03-22 03:04:36            406         66  1.0              \n",
            "datasets/amandam1/twitter-daily-stock-prices-20132022          Twitter Daily Stock Prices 2013-2022              39KB  2022-04-06 01:36:58            359         21  1.0              \n",
            "datasets/kuchhbhi/latest-laptop-price-list                     Laptop Specs and latest price                     18KB  2022-04-03 17:41:17           1118         34  1.0              \n",
            "datasets/prasertk/major-social-media-stock-prices-20122022     Major social media stock prices 2012-2022        175KB  2022-04-07 08:04:53            303         17  1.0              \n",
            "datasets/ivanchvez/causes-of-death-our-world-in-data           Causes of Death - Our World In Data                1MB  2022-03-29 18:35:21           1006         29  0.9705882        \n",
            "datasets/ashishjangra27/ted-talks                              TED Talks                                        298KB  2022-02-23 15:16:08           4016        176  1.0              \n",
            "datasets/disham993/9000-movies-dataset                         9000+ Movies Dataset                               2MB  2022-03-11 17:09:22           1138         22  1.0              \n",
            "datasets/kkhandekar/stolen-vehicle-dataset                     Stolen Vehicle Dataset                            46KB  2022-04-05 21:49:11            300         24  1.0              \n",
            "datasets/bhanuprasanna527/stock-market-prediction              IBM - Real Time Stock Analysis                     3MB  2022-03-26 10:07:31            711         27  0.9411765        \n",
            "datasets/prasertk/healthy-lifestyle-cities-report-2021         Healthy Lifestyle Cities Report 2021               2KB  2022-03-03 00:26:02           4178        114  1.0              \n",
            "datasets/vardhansiramdasu/fraudulent-transactions-prediction   Fraudulent Transactions Prediction               178MB  2022-03-21 16:08:45           1294         43  1.0              \n",
            "datasets/ajaypalsinghlo/world-happiness-report-2022            world happiness report 2022                        5KB  2022-03-21 13:41:15           1641         41  0.9705882        \n",
            "datasets/datahackers/state-of-data-2021                        State of Data Brazil 2021                        539KB  2022-03-31 18:48:28            153         63  0.9705882        \n",
            "datasets/equinxx/spotify-top-50-songs-in-2021                  Spotify top 50 songs in 2021                       4KB  2022-03-17 22:59:45           2322         61  1.0              \n"
          ]
        }
      ]
    },
    {
      "cell_type": "code",
      "source": [
        "! kaggle datasets download -d pranavraikokte/covid19-image-dataset"
      ],
      "metadata": {
        "colab": {
          "base_uri": "https://localhost:8080/"
        },
        "id": "ynsbYIqVZPF4",
        "outputId": "11ea84d8-11ef-4dc7-ce37-b1eb63a5670a"
      },
      "execution_count": null,
      "outputs": [
        {
          "output_type": "stream",
          "name": "stdout",
          "text": [
            "Downloading covid19-image-dataset.zip to /content\n",
            " 93% 147M/158M [00:05<00:00, 34.7MB/s]\n",
            "100% 158M/158M [00:05<00:00, 29.8MB/s]\n"
          ]
        }
      ]
    },
    {
      "cell_type": "code",
      "source": [
        "! unzip covid19-image-dataset.zip"
      ],
      "metadata": {
        "colab": {
          "base_uri": "https://localhost:8080/"
        },
        "id": "uiFJ-EAVZPCw",
        "outputId": "0ad93ebc-4132-4d75-e6ae-bd3118e34cb3"
      },
      "execution_count": null,
      "outputs": [
        {
          "output_type": "stream",
          "name": "stdout",
          "text": [
            "Archive:  covid19-image-dataset.zip\n",
            "  inflating: Covid19-dataset/test/Covid/0100.jpeg  \n",
            "  inflating: Covid19-dataset/test/Covid/0102.jpeg  \n",
            "  inflating: Covid19-dataset/test/Covid/0105.png  \n",
            "  inflating: Covid19-dataset/test/Covid/0106.jpeg  \n",
            "  inflating: Covid19-dataset/test/Covid/0108.jpeg  \n",
            "  inflating: Covid19-dataset/test/Covid/0111.jpg  \n",
            "  inflating: Covid19-dataset/test/Covid/0112.jpg  \n",
            "  inflating: Covid19-dataset/test/Covid/0113.jpg  \n",
            "  inflating: Covid19-dataset/test/Covid/0115.jpeg  \n",
            "  inflating: Covid19-dataset/test/Covid/0118.jpeg  \n",
            "  inflating: Covid19-dataset/test/Covid/0119.jpeg  \n",
            "  inflating: Covid19-dataset/test/Covid/0120.jpg  \n",
            "  inflating: Covid19-dataset/test/Covid/094.png  \n",
            "  inflating: Covid19-dataset/test/Covid/096.png  \n",
            "  inflating: Covid19-dataset/test/Covid/098.jpeg  \n",
            "  inflating: Covid19-dataset/test/Covid/COVID-00003b.jpg  \n",
            "  inflating: Covid19-dataset/test/Covid/COVID-00012.jpg  \n",
            "  inflating: Covid19-dataset/test/Covid/COVID-00022.jpg  \n",
            "  inflating: Covid19-dataset/test/Covid/COVID-00033.jpg  \n",
            "  inflating: Covid19-dataset/test/Covid/COVID-00037.jpg  \n",
            "  inflating: Covid19-dataset/test/Covid/auntminnie-2020_01_31_20_24_2322_2020_01_31_x-ray_coronavirus_US.jpg  \n",
            "  inflating: Covid19-dataset/test/Covid/auntminnie-a-2020_01_28_23_51_6665_2020_01_28_Vietnam_coronavirus.jpeg  \n",
            "  inflating: Covid19-dataset/test/Covid/auntminnie-b-2020_01_28_23_51_6665_2020_01_28_Vietnam_coronavirus.jpeg  \n",
            "  inflating: Covid19-dataset/test/Covid/auntminnie-c-2020_01_28_23_51_6665_2020_01_28_Vietnam_coronavirus.jpeg  \n",
            "  inflating: Covid19-dataset/test/Covid/auntminnie-d-2020_01_28_23_51_6665_2020_01_28_Vietnam_coronavirus.jpeg  \n",
            "  inflating: Covid19-dataset/test/Covid/radiopaedia-2019-novel-coronavirus-infected-pneumonia.jpg  \n",
            "  inflating: Covid19-dataset/test/Normal/0101.jpeg  \n",
            "  inflating: Covid19-dataset/test/Normal/0102.jpeg  \n",
            "  inflating: Covid19-dataset/test/Normal/0103.jpeg  \n",
            "  inflating: Covid19-dataset/test/Normal/0105.jpeg  \n",
            "  inflating: Covid19-dataset/test/Normal/0106.jpeg  \n",
            "  inflating: Covid19-dataset/test/Normal/0107.jpeg  \n",
            "  inflating: Covid19-dataset/test/Normal/0108.jpeg  \n",
            "  inflating: Covid19-dataset/test/Normal/0109.jpeg  \n",
            "  inflating: Covid19-dataset/test/Normal/0110.jpeg  \n",
            "  inflating: Covid19-dataset/test/Normal/0111.jpeg  \n",
            "  inflating: Covid19-dataset/test/Normal/0112.jpeg  \n",
            "  inflating: Covid19-dataset/test/Normal/0114.jpeg  \n",
            "  inflating: Covid19-dataset/test/Normal/0115.jpeg  \n",
            "  inflating: Covid19-dataset/test/Normal/0116.jpeg  \n",
            "  inflating: Covid19-dataset/test/Normal/0117.jpeg  \n",
            "  inflating: Covid19-dataset/test/Normal/0118.jpeg  \n",
            "  inflating: Covid19-dataset/test/Normal/0119.jpeg  \n",
            "  inflating: Covid19-dataset/test/Normal/0120.jpeg  \n",
            "  inflating: Covid19-dataset/test/Normal/0121.jpeg  \n",
            "  inflating: Covid19-dataset/test/Normal/0122.jpeg  \n",
            "  inflating: Covid19-dataset/test/Viral Pneumonia/0101.jpeg  \n",
            "  inflating: Covid19-dataset/test/Viral Pneumonia/0102.jpeg  \n",
            "  inflating: Covid19-dataset/test/Viral Pneumonia/0103.jpeg  \n",
            "  inflating: Covid19-dataset/test/Viral Pneumonia/0104.jpeg  \n",
            "  inflating: Covid19-dataset/test/Viral Pneumonia/0105.jpeg  \n",
            "  inflating: Covid19-dataset/test/Viral Pneumonia/0106.jpeg  \n",
            "  inflating: Covid19-dataset/test/Viral Pneumonia/0107.jpeg  \n",
            "  inflating: Covid19-dataset/test/Viral Pneumonia/0108.jpeg  \n",
            "  inflating: Covid19-dataset/test/Viral Pneumonia/0109.jpeg  \n",
            "  inflating: Covid19-dataset/test/Viral Pneumonia/0110.jpeg  \n",
            "  inflating: Covid19-dataset/test/Viral Pneumonia/0111.jpeg  \n",
            "  inflating: Covid19-dataset/test/Viral Pneumonia/0112.jpeg  \n",
            "  inflating: Covid19-dataset/test/Viral Pneumonia/0113.jpeg  \n",
            "  inflating: Covid19-dataset/test/Viral Pneumonia/0114.jpeg  \n",
            "  inflating: Covid19-dataset/test/Viral Pneumonia/0115.jpeg  \n",
            "  inflating: Covid19-dataset/test/Viral Pneumonia/0116.jpeg  \n",
            "  inflating: Covid19-dataset/test/Viral Pneumonia/0117.jpeg  \n",
            "  inflating: Covid19-dataset/test/Viral Pneumonia/0118.jpeg  \n",
            "  inflating: Covid19-dataset/test/Viral Pneumonia/0119.jpeg  \n",
            "  inflating: Covid19-dataset/test/Viral Pneumonia/0120.jpeg  \n",
            "  inflating: Covid19-dataset/train/Covid/01.jpeg  \n",
            "  inflating: Covid19-dataset/train/Covid/010.png  \n",
            "  inflating: Covid19-dataset/train/Covid/012.jpeg  \n",
            "  inflating: Covid19-dataset/train/Covid/015.jpg  \n",
            "  inflating: Covid19-dataset/train/Covid/019.png  \n",
            "  inflating: Covid19-dataset/train/Covid/02.jpeg  \n",
            "  inflating: Covid19-dataset/train/Covid/020.jpg  \n",
            "  inflating: Covid19-dataset/train/Covid/021.jpeg  \n",
            "  inflating: Covid19-dataset/train/Covid/022.jpeg  \n",
            "  inflating: Covid19-dataset/train/Covid/024.jpeg  \n",
            "  inflating: Covid19-dataset/train/Covid/025.jpeg  \n",
            "  inflating: Covid19-dataset/train/Covid/026.jpeg  \n",
            "  inflating: Covid19-dataset/train/Covid/027.jpeg  \n",
            "  inflating: Covid19-dataset/train/Covid/03.jpeg  \n",
            "  inflating: Covid19-dataset/train/Covid/031.jpeg  \n",
            "  inflating: Covid19-dataset/train/Covid/032.jpeg  \n",
            "  inflating: Covid19-dataset/train/Covid/033.png  \n",
            "  inflating: Covid19-dataset/train/Covid/039.jpeg  \n",
            "  inflating: Covid19-dataset/train/Covid/04.png  \n",
            "  inflating: Covid19-dataset/train/Covid/040.jpeg  \n",
            "  inflating: Covid19-dataset/train/Covid/041.jpeg  \n",
            "  inflating: Covid19-dataset/train/Covid/042.jpeg  \n",
            "  inflating: Covid19-dataset/train/Covid/043.jpeg  \n",
            "  inflating: Covid19-dataset/train/Covid/044.jpeg  \n",
            "  inflating: Covid19-dataset/train/Covid/045.jpeg  \n",
            "  inflating: Covid19-dataset/train/Covid/046.jpeg  \n",
            "  inflating: Covid19-dataset/train/Covid/047.jpeg  \n",
            "  inflating: Covid19-dataset/train/Covid/048.jpeg  \n",
            "  inflating: Covid19-dataset/train/Covid/049.jpeg  \n",
            "  inflating: Covid19-dataset/train/Covid/050.jpeg  \n",
            "  inflating: Covid19-dataset/train/Covid/051.jpeg  \n",
            "  inflating: Covid19-dataset/train/Covid/052.jpeg  \n",
            "  inflating: Covid19-dataset/train/Covid/053.jpeg  \n",
            "  inflating: Covid19-dataset/train/Covid/054.jpeg  \n",
            "  inflating: Covid19-dataset/train/Covid/055.jpeg  \n",
            "  inflating: Covid19-dataset/train/Covid/056.jpg  \n",
            "  inflating: Covid19-dataset/train/Covid/057.jpeg  \n",
            "  inflating: Covid19-dataset/train/Covid/058.jpeg  \n",
            "  inflating: Covid19-dataset/train/Covid/059.jpeg  \n",
            "  inflating: Covid19-dataset/train/Covid/06.jpeg  \n",
            "  inflating: Covid19-dataset/train/Covid/060.jpeg  \n",
            "  inflating: Covid19-dataset/train/Covid/061.jpg  \n",
            "  inflating: Covid19-dataset/train/Covid/062.jpeg  \n",
            "  inflating: Covid19-dataset/train/Covid/064.jpg  \n",
            "  inflating: Covid19-dataset/train/Covid/065.jpeg  \n",
            "  inflating: Covid19-dataset/train/Covid/067.jpg  \n",
            "  inflating: Covid19-dataset/train/Covid/068.jpg  \n",
            "  inflating: Covid19-dataset/train/Covid/069.jpg  \n",
            "  inflating: Covid19-dataset/train/Covid/07.jpg  \n",
            "  inflating: Covid19-dataset/train/Covid/071.jpg  \n",
            "  inflating: Covid19-dataset/train/Covid/072.jpeg  \n",
            "  inflating: Covid19-dataset/train/Covid/073.jpg  \n",
            "  inflating: Covid19-dataset/train/Covid/074.jpg  \n",
            "  inflating: Covid19-dataset/train/Covid/076.jpg  \n",
            "  inflating: Covid19-dataset/train/Covid/078.jpeg  \n",
            "  inflating: Covid19-dataset/train/Covid/079.jpeg  \n",
            "  inflating: Covid19-dataset/train/Covid/08.jpeg  \n",
            "  inflating: Covid19-dataset/train/Covid/080.jpg  \n",
            "  inflating: Covid19-dataset/train/Covid/081.jpeg  \n",
            "  inflating: Covid19-dataset/train/Covid/082.jpg  \n",
            "  inflating: Covid19-dataset/train/Covid/083.jpeg  \n",
            "  inflating: Covid19-dataset/train/Covid/084.jpeg  \n",
            "  inflating: Covid19-dataset/train/Covid/085.jpeg  \n",
            "  inflating: Covid19-dataset/train/Covid/086.jpg  \n",
            "  inflating: Covid19-dataset/train/Covid/088.jpeg  \n",
            "  inflating: Covid19-dataset/train/Covid/089.jpg  \n",
            "  inflating: Covid19-dataset/train/Covid/09.png  \n",
            "  inflating: Covid19-dataset/train/Covid/090.jpeg  \n",
            "  inflating: Covid19-dataset/train/Covid/091.jpg  \n",
            "  inflating: Covid19-dataset/train/Covid/092.png  \n",
            "  inflating: Covid19-dataset/train/Covid/COVID-00001.jpg  \n",
            "  inflating: Covid19-dataset/train/Covid/COVID-00002.jpg  \n",
            "  inflating: Covid19-dataset/train/Covid/COVID-00003a.jpg  \n",
            "  inflating: Covid19-dataset/train/Covid/COVID-00003b.jpg  \n",
            "  inflating: Covid19-dataset/train/Covid/COVID-00004.jpg  \n",
            "  inflating: Covid19-dataset/train/Covid/COVID-00005.jpg  \n",
            "  inflating: Covid19-dataset/train/Covid/COVID-00006.jpg  \n",
            "  inflating: Covid19-dataset/train/Covid/COVID-00007.jpg  \n",
            "  inflating: Covid19-dataset/train/Covid/COVID-00008.jpg  \n",
            "  inflating: Covid19-dataset/train/Covid/COVID-00009.jpg  \n",
            "  inflating: Covid19-dataset/train/Covid/COVID-00010.jpg  \n",
            "  inflating: Covid19-dataset/train/Covid/COVID-00011.jpg  \n",
            "  inflating: Covid19-dataset/train/Covid/COVID-00012.jpg  \n",
            "  inflating: Covid19-dataset/train/Covid/COVID-00013a.jpg  \n",
            "  inflating: Covid19-dataset/train/Covid/COVID-00013b.jpg  \n",
            "  inflating: Covid19-dataset/train/Covid/COVID-00014.jpg  \n",
            "  inflating: Covid19-dataset/train/Covid/COVID-00015a.png  \n",
            "  inflating: Covid19-dataset/train/Covid/COVID-00015b.png  \n",
            "  inflating: Covid19-dataset/train/Covid/COVID-00016.jpg  \n",
            "  inflating: Covid19-dataset/train/Covid/COVID-00017.jpg  \n",
            "  inflating: Covid19-dataset/train/Covid/COVID-00018.jpg  \n",
            "  inflating: Covid19-dataset/train/Covid/COVID-00019.jpg  \n",
            "  inflating: Covid19-dataset/train/Covid/COVID-00020.jpg  \n",
            "  inflating: Covid19-dataset/train/Covid/COVID-00021.jpg  \n",
            "  inflating: Covid19-dataset/train/Covid/COVID-00022.jpg  \n",
            "  inflating: Covid19-dataset/train/Covid/COVID-00023.jpg  \n",
            "  inflating: Covid19-dataset/train/Covid/COVID-00024.jpg  \n",
            "  inflating: Covid19-dataset/train/Covid/COVID-00025.jpg  \n",
            "  inflating: Covid19-dataset/train/Covid/COVID-00026.jpg  \n",
            "  inflating: Covid19-dataset/train/Covid/COVID-00027.jpg  \n",
            "  inflating: Covid19-dataset/train/Covid/COVID-00028.jpg  \n",
            "  inflating: Covid19-dataset/train/Covid/COVID-00029.jpg  \n",
            "  inflating: Covid19-dataset/train/Covid/COVID-00030.jpg  \n",
            "  inflating: Covid19-dataset/train/Covid/COVID-00031.jpg  \n",
            "  inflating: Covid19-dataset/train/Covid/COVID-00032.jpg  \n",
            "  inflating: Covid19-dataset/train/Covid/COVID-00033.jpg  \n",
            "  inflating: Covid19-dataset/train/Covid/COVID-00034.jpg  \n",
            "  inflating: Covid19-dataset/train/Covid/COVID-00035.jpg  \n",
            "  inflating: Covid19-dataset/train/Covid/COVID-00036.jpg  \n",
            "  inflating: Covid19-dataset/train/Covid/COVID-00037.jpg  \n",
            "  inflating: Covid19-dataset/train/Covid/COVID-00038.jpg  \n",
            "  inflating: Covid19-dataset/train/Normal/01.jpeg  \n",
            "  inflating: Covid19-dataset/train/Normal/010.jpeg  \n",
            "  inflating: Covid19-dataset/train/Normal/011.jpeg  \n",
            "  inflating: Covid19-dataset/train/Normal/012.jpeg  \n",
            "  inflating: Covid19-dataset/train/Normal/013.jpeg  \n",
            "  inflating: Covid19-dataset/train/Normal/014.jpeg  \n",
            "  inflating: Covid19-dataset/train/Normal/015.jpeg  \n",
            "  inflating: Covid19-dataset/train/Normal/016.jpeg  \n",
            "  inflating: Covid19-dataset/train/Normal/017.jpeg  \n",
            "  inflating: Covid19-dataset/train/Normal/018.jpeg  \n",
            "  inflating: Covid19-dataset/train/Normal/019.jpeg  \n",
            "  inflating: Covid19-dataset/train/Normal/02.jpeg  \n",
            "  inflating: Covid19-dataset/train/Normal/020.jpeg  \n",
            "  inflating: Covid19-dataset/train/Normal/021.jpeg  \n",
            "  inflating: Covid19-dataset/train/Normal/022.jpeg  \n",
            "  inflating: Covid19-dataset/train/Normal/023.jpeg  \n",
            "  inflating: Covid19-dataset/train/Normal/024.jpeg  \n",
            "  inflating: Covid19-dataset/train/Normal/025.jpeg  \n",
            "  inflating: Covid19-dataset/train/Normal/03.jpeg  \n",
            "  inflating: Covid19-dataset/train/Normal/04.jpeg  \n",
            "  inflating: Covid19-dataset/train/Normal/05.jpeg  \n",
            "  inflating: Covid19-dataset/train/Normal/050.jpeg  \n",
            "  inflating: Covid19-dataset/train/Normal/051.jpeg  \n",
            "  inflating: Covid19-dataset/train/Normal/052.jpeg  \n",
            "  inflating: Covid19-dataset/train/Normal/053.jpeg  \n",
            "  inflating: Covid19-dataset/train/Normal/054.jpeg  \n",
            "  inflating: Covid19-dataset/train/Normal/055.jpeg  \n",
            "  inflating: Covid19-dataset/train/Normal/056.jpeg  \n",
            "  inflating: Covid19-dataset/train/Normal/057.jpeg  \n",
            "  inflating: Covid19-dataset/train/Normal/058.jpeg  \n",
            "  inflating: Covid19-dataset/train/Normal/059.jpeg  \n",
            "  inflating: Covid19-dataset/train/Normal/06.jpeg  \n",
            "  inflating: Covid19-dataset/train/Normal/060.jpeg  \n",
            "  inflating: Covid19-dataset/train/Normal/061.jpeg  \n",
            "  inflating: Covid19-dataset/train/Normal/062.jpeg  \n",
            "  inflating: Covid19-dataset/train/Normal/063.jpeg  \n",
            "  inflating: Covid19-dataset/train/Normal/064.jpeg  \n",
            "  inflating: Covid19-dataset/train/Normal/065.jpeg  \n",
            "  inflating: Covid19-dataset/train/Normal/066.jpeg  \n",
            "  inflating: Covid19-dataset/train/Normal/067.jpeg  \n",
            "  inflating: Covid19-dataset/train/Normal/068.jpeg  \n",
            "  inflating: Covid19-dataset/train/Normal/069.jpeg  \n",
            "  inflating: Covid19-dataset/train/Normal/07.jpeg  \n",
            "  inflating: Covid19-dataset/train/Normal/070.jpeg  \n",
            "  inflating: Covid19-dataset/train/Normal/071.jpeg  \n",
            "  inflating: Covid19-dataset/train/Normal/072.jpeg  \n",
            "  inflating: Covid19-dataset/train/Normal/073.jpeg  \n",
            "  inflating: Covid19-dataset/train/Normal/074.jpeg  \n",
            "  inflating: Covid19-dataset/train/Normal/075.jpeg  \n",
            "  inflating: Covid19-dataset/train/Normal/076.jpeg  \n",
            "  inflating: Covid19-dataset/train/Normal/077.jpeg  \n",
            "  inflating: Covid19-dataset/train/Normal/079.jpeg  \n",
            "  inflating: Covid19-dataset/train/Normal/08.jpeg  \n",
            "  inflating: Covid19-dataset/train/Normal/080.jpeg  \n",
            "  inflating: Covid19-dataset/train/Normal/081.jpeg  \n",
            "  inflating: Covid19-dataset/train/Normal/082.jpeg  \n",
            "  inflating: Covid19-dataset/train/Normal/083.jpeg  \n",
            "  inflating: Covid19-dataset/train/Normal/084.jpeg  \n",
            "  inflating: Covid19-dataset/train/Normal/085.jpeg  \n",
            "  inflating: Covid19-dataset/train/Normal/086.jpeg  \n",
            "  inflating: Covid19-dataset/train/Normal/087.jpeg  \n",
            "  inflating: Covid19-dataset/train/Normal/088.jpeg  \n",
            "  inflating: Covid19-dataset/train/Normal/09.jpeg  \n",
            "  inflating: Covid19-dataset/train/Normal/091.jpeg  \n",
            "  inflating: Covid19-dataset/train/Normal/092.jpeg  \n",
            "  inflating: Covid19-dataset/train/Normal/093.jpeg  \n",
            "  inflating: Covid19-dataset/train/Normal/094.jpeg  \n",
            "  inflating: Covid19-dataset/train/Normal/095.jpeg  \n",
            "  inflating: Covid19-dataset/train/Normal/096.jpeg  \n",
            "  inflating: Covid19-dataset/train/Normal/097.jpeg  \n",
            "  inflating: Covid19-dataset/train/Viral Pneumonia/01.jpeg  \n",
            "  inflating: Covid19-dataset/train/Viral Pneumonia/010.jpeg  \n",
            "  inflating: Covid19-dataset/train/Viral Pneumonia/011.jpeg  \n",
            "  inflating: Covid19-dataset/train/Viral Pneumonia/012.jpeg  \n",
            "  inflating: Covid19-dataset/train/Viral Pneumonia/013.jpeg  \n",
            "  inflating: Covid19-dataset/train/Viral Pneumonia/016.jpeg  \n",
            "  inflating: Covid19-dataset/train/Viral Pneumonia/018.jpeg  \n",
            "  inflating: Covid19-dataset/train/Viral Pneumonia/019.jpeg  \n",
            "  inflating: Covid19-dataset/train/Viral Pneumonia/02.jpeg  \n",
            "  inflating: Covid19-dataset/train/Viral Pneumonia/020.jpeg  \n",
            "  inflating: Covid19-dataset/train/Viral Pneumonia/021.jpeg  \n",
            "  inflating: Covid19-dataset/train/Viral Pneumonia/022.jpeg  \n",
            "  inflating: Covid19-dataset/train/Viral Pneumonia/023.jpeg  \n",
            "  inflating: Covid19-dataset/train/Viral Pneumonia/024.jpeg  \n",
            "  inflating: Covid19-dataset/train/Viral Pneumonia/025.jpeg  \n",
            "  inflating: Covid19-dataset/train/Viral Pneumonia/027.jpeg  \n",
            "  inflating: Covid19-dataset/train/Viral Pneumonia/03.jpeg  \n",
            "  inflating: Covid19-dataset/train/Viral Pneumonia/031.jpeg  \n",
            "  inflating: Covid19-dataset/train/Viral Pneumonia/032.jpeg  \n",
            "  inflating: Covid19-dataset/train/Viral Pneumonia/033.jpeg  \n",
            "  inflating: Covid19-dataset/train/Viral Pneumonia/034.jpeg  \n",
            "  inflating: Covid19-dataset/train/Viral Pneumonia/035.jpeg  \n",
            "  inflating: Covid19-dataset/train/Viral Pneumonia/036.jpeg  \n",
            "  inflating: Covid19-dataset/train/Viral Pneumonia/037.jpeg  \n",
            "  inflating: Covid19-dataset/train/Viral Pneumonia/038.jpeg  \n",
            "  inflating: Covid19-dataset/train/Viral Pneumonia/04.jpeg  \n",
            "  inflating: Covid19-dataset/train/Viral Pneumonia/041.jpeg  \n",
            "  inflating: Covid19-dataset/train/Viral Pneumonia/042.jpeg  \n",
            "  inflating: Covid19-dataset/train/Viral Pneumonia/043.jpeg  \n",
            "  inflating: Covid19-dataset/train/Viral Pneumonia/044.jpeg  \n",
            "  inflating: Covid19-dataset/train/Viral Pneumonia/045.jpeg  \n",
            "  inflating: Covid19-dataset/train/Viral Pneumonia/046.jpeg  \n",
            "  inflating: Covid19-dataset/train/Viral Pneumonia/047.jpeg  \n",
            "  inflating: Covid19-dataset/train/Viral Pneumonia/048.jpeg  \n",
            "  inflating: Covid19-dataset/train/Viral Pneumonia/05.jpeg  \n",
            "  inflating: Covid19-dataset/train/Viral Pneumonia/051.jpeg  \n",
            "  inflating: Covid19-dataset/train/Viral Pneumonia/052.jpeg  \n",
            "  inflating: Covid19-dataset/train/Viral Pneumonia/053.jpeg  \n",
            "  inflating: Covid19-dataset/train/Viral Pneumonia/054.jpeg  \n",
            "  inflating: Covid19-dataset/train/Viral Pneumonia/055.jpeg  \n",
            "  inflating: Covid19-dataset/train/Viral Pneumonia/056.jpeg  \n",
            "  inflating: Covid19-dataset/train/Viral Pneumonia/057.jpeg  \n",
            "  inflating: Covid19-dataset/train/Viral Pneumonia/058.jpeg  \n",
            "  inflating: Covid19-dataset/train/Viral Pneumonia/06.jpeg  \n",
            "  inflating: Covid19-dataset/train/Viral Pneumonia/061.jpeg  \n",
            "  inflating: Covid19-dataset/train/Viral Pneumonia/062.jpeg  \n",
            "  inflating: Covid19-dataset/train/Viral Pneumonia/063.jpeg  \n",
            "  inflating: Covid19-dataset/train/Viral Pneumonia/064.jpeg  \n",
            "  inflating: Covid19-dataset/train/Viral Pneumonia/065.jpeg  \n",
            "  inflating: Covid19-dataset/train/Viral Pneumonia/066.jpeg  \n",
            "  inflating: Covid19-dataset/train/Viral Pneumonia/067.jpeg  \n",
            "  inflating: Covid19-dataset/train/Viral Pneumonia/068.jpeg  \n",
            "  inflating: Covid19-dataset/train/Viral Pneumonia/07.jpeg  \n",
            "  inflating: Covid19-dataset/train/Viral Pneumonia/071.jpeg  \n",
            "  inflating: Covid19-dataset/train/Viral Pneumonia/072.jpeg  \n",
            "  inflating: Covid19-dataset/train/Viral Pneumonia/073.jpeg  \n",
            "  inflating: Covid19-dataset/train/Viral Pneumonia/074.jpeg  \n",
            "  inflating: Covid19-dataset/train/Viral Pneumonia/075.jpeg  \n",
            "  inflating: Covid19-dataset/train/Viral Pneumonia/076.jpeg  \n",
            "  inflating: Covid19-dataset/train/Viral Pneumonia/077.jpeg  \n",
            "  inflating: Covid19-dataset/train/Viral Pneumonia/078.jpeg  \n",
            "  inflating: Covid19-dataset/train/Viral Pneumonia/08.jpeg  \n",
            "  inflating: Covid19-dataset/train/Viral Pneumonia/081.jpeg  \n",
            "  inflating: Covid19-dataset/train/Viral Pneumonia/082.jpeg  \n",
            "  inflating: Covid19-dataset/train/Viral Pneumonia/083.jpeg  \n",
            "  inflating: Covid19-dataset/train/Viral Pneumonia/084.jpeg  \n",
            "  inflating: Covid19-dataset/train/Viral Pneumonia/09.jpeg  \n",
            "  inflating: Covid19-dataset/train/Viral Pneumonia/094.jpeg  \n",
            "  inflating: Covid19-dataset/train/Viral Pneumonia/095.jpeg  \n",
            "  inflating: Covid19-dataset/train/Viral Pneumonia/096.jpeg  \n"
          ]
        }
      ]
    },
    {
      "cell_type": "code",
      "source": [
        "import os\n",
        "import cv2\n",
        "import matplotlib.pyplot as plt\n",
        "import seaborn as sns\n",
        "import keras\n",
        "import sklearn.metrics as metrics\n",
        "from keras.models import Sequential\n",
        "from keras.layers import Dense, Conv2D , MaxPool2D , Flatten , Dropout , BatchNormalization\n",
        "from keras.preprocessing.image import ImageDataGenerator\n",
        "from sklearn.model_selection import train_test_split\n",
        "from sklearn.metrics import classification_report,confusion_matrix\n",
        "from keras.callbacks import EarlyStopping, ModelCheckpoint,ReduceLROnPlateau\n",
        "import warnings\n",
        "warnings.filterwarnings('ignore')"
      ],
      "metadata": {
        "id": "i7phBBPkZO_l"
      },
      "execution_count": null,
      "outputs": []
    },
    {
      "cell_type": "code",
      "source": [
        "train_data_path = \"/content/Covid19-dataset/train\"\n",
        "test_data_path = \"/content/Covid19-dataset/test\""
      ],
      "metadata": {
        "id": "mOMHLhbOZO8v"
      },
      "execution_count": null,
      "outputs": []
    },
    {
      "cell_type": "code",
      "source": [
        "# To upload model\n",
        "from google.colab import files\n",
        "files.upload()"
      ],
      "metadata": {
        "colab": {
          "resources": {
            "http://localhost:8080/nbextensions/google.colab/files.js": {
              "data": "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",
              "ok": true,
              "headers": [
                [
                  "content-type",
                  "application/javascript"
                ]
              ],
              "status": 200,
              "status_text": ""
            }
          },
          "base_uri": "https://localhost:8080/",
          "height": 74
        },
        "id": "J74pQcATZO5Z",
        "outputId": "845440b9-6b72-4aea-8390-809ebe064f00"
      },
      "execution_count": null,
      "outputs": [
        {
          "output_type": "display_data",
          "data": {
            "text/html": [
              "\n",
              "     <input type=\"file\" id=\"files-ac5054c4-09ae-4962-b7ab-0a416d0fed14\" name=\"files[]\" multiple disabled\n",
              "        style=\"border:none\" />\n",
              "     <output id=\"result-ac5054c4-09ae-4962-b7ab-0a416d0fed14\">\n",
              "      Upload widget is only available when the cell has been executed in the\n",
              "      current browser session. Please rerun this cell to enable.\n",
              "      </output>\n",
              "      <script src=\"/nbextensions/google.colab/files.js\"></script> "
            ],
            "text/plain": [
              "<IPython.core.display.HTML object>"
            ]
          },
          "metadata": {}
        },
        {
          "output_type": "stream",
          "name": "stdout",
          "text": [
            "Saving best_model.hdf5 to best_model.hdf5\n"
          ]
        }
      ]
    },
    {
      "cell_type": "code",
      "source": [
        "from tensorflow import keras\n",
        "model = keras.models.load_model('/content/best_model.hdf5')"
      ],
      "metadata": {
        "id": "xBJ5jfQ5ZO2h"
      },
      "execution_count": null,
      "outputs": []
    },
    {
      "cell_type": "code",
      "source": [
        "model.summary()"
      ],
      "metadata": {
        "colab": {
          "base_uri": "https://localhost:8080/"
        },
        "id": "qR2hRS3YghDG",
        "outputId": "2aca4cde-fd4e-4933-b8c9-340f27f5581d"
      },
      "execution_count": null,
      "outputs": [
        {
          "output_type": "stream",
          "name": "stdout",
          "text": [
            "Model: \"sequential\"\n",
            "_________________________________________________________________\n",
            " Layer (type)                Output Shape              Param #   \n",
            "=================================================================\n",
            " conv2d (Conv2D)             (None, 144, 144, 128)     18944     \n",
            "                                                                 \n",
            " max_pooling2d (MaxPooling2D  (None, 71, 71, 128)      0         \n",
            " )                                                               \n",
            "                                                                 \n",
            " conv2d_1 (Conv2D)           (None, 67, 67, 64)        204864    \n",
            "                                                                 \n",
            " max_pooling2d_1 (MaxPooling  (None, 32, 32, 64)       0         \n",
            " 2D)                                                             \n",
            "                                                                 \n",
            " flatten (Flatten)           (None, 65536)             0         \n",
            "                                                                 \n",
            " dense (Dense)               (None, 128)               8388736   \n",
            "                                                                 \n",
            " dense_1 (Dense)             (None, 3)                 387       \n",
            "                                                                 \n",
            "=================================================================\n",
            "Total params: 8,612,931\n",
            "Trainable params: 8,612,931\n",
            "Non-trainable params: 0\n",
            "_________________________________________________________________\n"
          ]
        }
      ]
    },
    {
      "cell_type": "code",
      "source": [],
      "metadata": {
        "id": "IM0ER4tziZ6e"
      },
      "execution_count": null,
      "outputs": []
    },
    {
      "cell_type": "code",
      "source": [
        "# Predicting\n",
        "from keras.preprocessing import image\n",
        "import numpy as np \n",
        "import pandas as pd \n",
        "#path=\"/content/Covid19-dataset/test/Covid/0100.jpeg\"\n",
        "#path=\"/content/Covid19-dataset/test/Normal/0101.jpeg\"\n",
        "#path=\"/content/Covid19-dataset/test/Viral Pneumonia/0101.jpeg\"\n",
        "#path=\"/content/Covid19-dataset/test/Covid/COVID-00003b.jpg\"\n",
        "#path=\"/content/Covid19-dataset/test/Covid/auntminnie-2020_01_31_20_24_2322_2020_01_31_x-ray_coronavirus_US.jpg\"\n",
        "#path=\"/content/Covid19-dataset/test/Normal/0119.jpeg\"\n",
        "#path=\"/content/Covid19-dataset/test/Normal/0122.jpeg\"\n",
        "path=\"/content/Covid19-dataset/test/Viral Pneumonia/0117.jpeg\"\n",
        "img=image.load_img(path,target_size=(150,150))\n",
        "i=image.img_to_array(img)\n",
        "#i=preprocess_input(i)\n",
        "input_arr=np.array([i])\n",
        "print(input_arr.shape)\n",
        "\n",
        "\n",
        "\n",
        "\n",
        "pred=np.argmax(model.predict(input_arr))\n",
        "print(pred)\n",
        "if pred==0:\n",
        "  print(\"The Patient has Covid\")\n",
        "if pred==1:\n",
        "  print(\"The patient is Normal \")\n",
        "if pred==2:\n",
        "  print(\"The patient has Viral Pneumonia\")"
      ],
      "metadata": {
        "colab": {
          "base_uri": "https://localhost:8080/"
        },
        "id": "ndmrdXb6ZOzZ",
        "outputId": "61801c0d-a08c-4b5f-ed72-2ab9d7b78fb6"
      },
      "execution_count": null,
      "outputs": [
        {
          "output_type": "stream",
          "name": "stdout",
          "text": [
            "(1, 150, 150, 3)\n",
            "2\n",
            "The patient has Viral Pneumonia\n"
          ]
        }
      ]
    },
    {
      "cell_type": "code",
      "source": [],
      "metadata": {
        "id": "9VhCVj-HZOqh"
      },
      "execution_count": null,
      "outputs": []
    },
    {
      "cell_type": "code",
      "source": [],
      "metadata": {
        "id": "BZfX_brYZOna"
      },
      "execution_count": null,
      "outputs": []
    },
    {
      "cell_type": "code",
      "source": [],
      "metadata": {
        "id": "QZhRzyNYZfSJ"
      },
      "execution_count": null,
      "outputs": []
    },
    {
      "cell_type": "code",
      "source": [],
      "metadata": {
        "id": "wx4YVVb-ZfOd"
      },
      "execution_count": null,
      "outputs": []
    },
    {
      "cell_type": "code",
      "source": [],
      "metadata": {
        "id": "C6VVUD2OZfLJ"
      },
      "execution_count": null,
      "outputs": []
    }
  ]
}